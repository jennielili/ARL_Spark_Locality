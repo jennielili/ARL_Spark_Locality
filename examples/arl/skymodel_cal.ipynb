{
 "cells": [
  {
   "cell_type": "markdown",
   "metadata": {},
   "source": [
    "# SkyModel_cal\n",
    "\n",
    "This notebook demonstrates a variant of SageCal algorithm, based on the paper:\n",
    "Radio interferometric calibration with SAGE.\n",
    "\n",
    "S Kazemi, S Yatawatta, S Zaroubi, P Lampropoulos, A G de Bruyn, L V E Koopmans, and J Noordam.\n",
    "\n",
    "Monthly Notices of the Royal Astronomical Society, 2011 vol. 414 (2) pp. 1656-1666.\n",
    "\n",
    "http://adsabs.harvard.edu/cgi-bin/nph-data_query?bibcode=2011MNRAS.414.1656K&link_type=EJOURNAL\n",
    "\n",
    "This version allows images as well as discrete components\n"
   ]
  },
  {
   "cell_type": "code",
   "execution_count": null,
   "metadata": {
    "ExecuteTime": {
     "end_time": "2018-03-01T14:24:30.226437Z",
     "start_time": "2018-03-01T14:24:28.805013Z"
    },
    "scrolled": false
   },
   "outputs": [],
   "source": [
    "%matplotlib inline\n",
    "\n",
    "import os\n",
    "import sys\n",
    "sys.path.append(os.path.join('..','..'))\n",
    "\n",
    "results_dir = './results'\n",
    "os.makedirs(results_dir, exist_ok=True)\n",
    "\n",
    "import numpy\n",
    "\n",
    "from astropy.coordinates import SkyCoord\n",
    "from astropy import units as u\n",
    "from astropy.wcs.utils import pixel_to_skycoord\n",
    "\n",
    "from matplotlib import pyplot as plt\n",
    "\n",
    "from arl.skycomponent.operations import find_skycomponents, find_nearest_component\n",
    "from arl.calibration.solvers import solve_gaintable\n",
    "from arl.calibration.operations import apply_gaintable, create_gaintable_from_blockvisibility\n",
    "from arl.data.data_models import Image\n",
    "from arl.data.polarisation import PolarisationFrame\n",
    "from arl.data.parameters import get_parameter\n",
    "from arl.visibility.base import create_blockvisibility, copy_visibility\n",
    "from arl.skycomponent.operations import create_skycomponent\n",
    "from arl.image.deconvolution import restore_cube\n",
    "from arl.skycomponent.operations import insert_skycomponent\n",
    "from arl.image.operations import show_image, export_image_to_fits, qa_image, copy_image, create_empty_image_like\n",
    "from arl.visibility.iterators import vis_timeslice_iter\n",
    "from arl.visibility.coalesce import convert_visibility_to_blockvisibility\n",
    "from arl.util.testing_support import create_named_configuration, create_low_test_beam, \\\n",
    "    simulate_gaintable, create_low_test_skycomponents_from_gleam\n",
    "from arl.skycomponent.operations import apply_beam_to_skycomponent\n",
    "from arl.imaging import create_image_from_visibility, advise_wide_field, predict_skycomponent_visibility\n",
    "from arl.imaging.imaging_context import invert_function, predict_function\n",
    "\n",
    "from arl.calibration.skymodel_cal import skymodel_cal_solve\n",
    "from arl.calibration.skymodel_cal_delayed import create_skymodel_cal_solve_graph\n",
    "\n",
    "from arl.graphs.dask_init import get_dask_Client\n",
    "from arl.image.operations import export_image_to_fits\n",
    "\n",
    "import logging\n",
    "\n",
    "log = logging.getLogger()\n",
    "log.setLevel(logging.INFO)\n",
    "log.addHandler(logging.StreamHandler(sys.stdout))"
   ]
  },
  {
   "cell_type": "markdown",
   "metadata": {},
   "source": [
    "We make the visibility. The parameter rmax determines the distance of the furthest antenna/stations used. All over parameters are determined from this number."
   ]
  },
  {
   "cell_type": "code",
   "execution_count": null,
   "metadata": {
    "ExecuteTime": {
     "end_time": "2018-03-01T14:24:30.344610Z",
     "start_time": "2018-03-01T14:24:30.227987Z"
    }
   },
   "outputs": [],
   "source": [
    "nfreqwin = 1\n",
    "ntimes = 1\n",
    "rmax = 600\n",
    "frequency = numpy.linspace(0.8e8, 1.2e8, nfreqwin)\n",
    "if nfreqwin > 1:\n",
    "    channel_bandwidth = numpy.array(nfreqwin * [frequency[1] - frequency[0]])\n",
    "else:\n",
    "    channel_bandwidth = [0.4e8]\n",
    "times = numpy.linspace(-numpy.pi / 3.0, numpy.pi / 3.0, ntimes)\n",
    "\n",
    "phasecentre = SkyCoord(\n",
    "    ra=-70.0 * u.deg, dec=-60.0 * u.deg, frame='icrs', equinox='J2000')\n",
    "\n",
    "lowcore = create_named_configuration('LOWBD2', rmax=rmax)\n",
    "\n",
    "block_vis = create_blockvisibility(\n",
    "    lowcore,\n",
    "    times,\n",
    "    frequency=frequency,\n",
    "    channel_bandwidth=channel_bandwidth,\n",
    "    weight=1.0,\n",
    "    phasecentre=phasecentre,\n",
    "    polarisation_frame=PolarisationFrame(\"stokesI\"))\n",
    "\n",
    "print(block_vis.vis.shape)"
   ]
  },
  {
   "cell_type": "code",
   "execution_count": null,
   "metadata": {
    "ExecuteTime": {
     "end_time": "2018-03-01T14:24:30.666903Z",
     "start_time": "2018-03-01T14:24:30.347002Z"
    },
    "scrolled": false
   },
   "outputs": [],
   "source": [
    "wprojection_planes=1\n",
    "advice=advise_wide_field(block_vis, guard_band_image=5.0, delA=0.02, wprojection_planes=wprojection_planes)\n",
    "\n",
    "vis_slices = advice['vis_slices']\n",
    "npixel=advice['npixels2']\n",
    "cellsize=advice['cellsize']"
   ]
  },
  {
   "cell_type": "markdown",
   "metadata": {},
   "source": [
    "Generate the model from the GLEAM catalog, including application of the primary beam."
   ]
  },
  {
   "cell_type": "code",
   "execution_count": null,
   "metadata": {
    "ExecuteTime": {
     "end_time": "2018-03-01T14:24:42.767905Z",
     "start_time": "2018-03-01T14:24:30.672049Z"
    },
    "scrolled": false
   },
   "outputs": [],
   "source": [
    "beam = create_image_from_visibility(\n",
    "    block_vis,\n",
    "    npixel=npixel,\n",
    "    frequency=frequency,\n",
    "    nchan=nfreqwin,\n",
    "    cellsize=cellsize,\n",
    "    phasecentre=phasecentre)\n",
    "\n",
    "gleam_components = create_low_test_skycomponents_from_gleam(\n",
    "    flux_limit=2.0,\n",
    "    phasecentre=phasecentre,\n",
    "    frequency=frequency,\n",
    "    polarisation_frame=PolarisationFrame('stokesI'),\n",
    "    radius=npixel * cellsize)\n",
    "\n",
    "beam = create_low_test_beam(beam)\n",
    "gleam_components = apply_beam_to_skycomponent(gleam_components, beam, flux_limit=0.5)\n",
    "from matplotlib import pylab\n",
    "pylab.rcParams['figure.figsize'] = (12.0, 12.0)\n",
    "pylab.rcParams['image.cmap'] = 'rainbow'\n",
    "\n",
    "\n",
    "show_image(beam, components=gleam_components, cm='Greys', title='Primary beam plus original GLEAM components')\n",
    "print(\"Number of components %d\" % len(gleam_components))"
   ]
  },
  {
   "cell_type": "markdown",
   "metadata": {
    "ExecuteTime": {
     "end_time": "2018-02-07T15:50:29.575949Z",
     "start_time": "2018-02-07T15:50:29.572226Z"
    }
   },
   "source": [
    "Generate the template image"
   ]
  },
  {
   "cell_type": "code",
   "execution_count": null,
   "metadata": {
    "ExecuteTime": {
     "end_time": "2018-03-01T14:24:42.796639Z",
     "start_time": "2018-03-01T14:24:42.770174Z"
    },
    "scrolled": false
   },
   "outputs": [],
   "source": [
    "model = create_image_from_visibility(block_vis, npixel=npixel, frequency=[numpy.average(frequency)], nchan=1,\n",
    "    channel_bandwidth=[numpy.sum(channel_bandwidth)], cellsize=cellsize, phasecentre=phasecentre)"
   ]
  },
  {
   "cell_type": "markdown",
   "metadata": {},
   "source": [
    "Create the model visibilities, applying a different gain table for each."
   ]
  },
  {
   "cell_type": "code",
   "execution_count": null,
   "metadata": {
    "ExecuteTime": {
     "end_time": "2018-03-01T14:24:48.239275Z",
     "start_time": "2018-03-01T14:24:42.799091Z"
    }
   },
   "outputs": [],
   "source": [
    "corrupted_vis = copy_visibility(block_vis)\n",
    "gt = create_gaintable_from_blockvisibility(block_vis, timeslice='auto')\n",
    "isoplanatic_size = 0.005\n",
    "for sc in gleam_components:\n",
    "    component_vis = copy_visibility(block_vis, zero=True)\n",
    "    separation=block_vis.phasecentre.separation(sc.direction).to('rad').value\n",
    "    phase_error = numpy.power(separation, +1.8)/isoplanatic_size\n",
    "    print(\"Offset from phase centre = %.3f radians, phase error = %.3f radians\" % (separation, phase_error))\n",
    "    gt = simulate_gaintable(gt, amplitude_error=0.0, phase_error=phase_error)\n",
    "    component_vis = predict_skycomponent_visibility(component_vis, sc)\n",
    "    component_vis = apply_gaintable(component_vis, gt)\n",
    "    corrupted_vis.data['vis'][...]+=component_vis.data['vis'][...]\n",
    "    \n",
    "dirty, sumwt = invert_function(corrupted_vis, model, context='2d')\n",
    "export_image_to_fits(dirty, 'skymodel_cal_before_dirty.fits')"
   ]
  },
  {
   "cell_type": "markdown",
   "metadata": {},
   "source": [
    "Show the dirty image, along with the GLEAM components"
   ]
  },
  {
   "cell_type": "code",
   "execution_count": null,
   "metadata": {
    "ExecuteTime": {
     "end_time": "2018-03-01T14:24:49.008712Z",
     "start_time": "2018-03-01T14:24:48.241371Z"
    },
    "scrolled": false
   },
   "outputs": [],
   "source": [
    "show_image(dirty, components=gleam_components, cm='Greys', title='Dirty image plus original components')\n",
    "qa = qa_image(dirty, context='Dirty image plus original components')\n",
    "print(qa)\n",
    "plt.show()"
   ]
  },
  {
   "cell_type": "markdown",
   "metadata": {},
   "source": [
    "Find the components above the threshold 10 times the median-abs of the dirty image"
   ]
  },
  {
   "cell_type": "code",
   "execution_count": null,
   "metadata": {
    "ExecuteTime": {
     "end_time": "2018-03-01T14:24:49.955466Z",
     "start_time": "2018-03-01T14:24:49.010353Z"
    },
    "scrolled": false
   },
   "outputs": [],
   "source": [
    "qa = qa_image(dirty)\n",
    "found_components= find_skycomponents(dirty, threshold=10.0*qa.data['medianabs'])\n",
    "show_image(dirty, components=found_components, cm='Greys', title='Dirty image plus found components')\n",
    "plt.show()"
   ]
  },
  {
   "cell_type": "markdown",
   "metadata": {},
   "source": [
    "First do an isoplanatic selfcalibration using these components"
   ]
  },
  {
   "cell_type": "code",
   "execution_count": null,
   "metadata": {
    "ExecuteTime": {
     "end_time": "2018-03-01T14:24:53.017516Z",
     "start_time": "2018-03-01T14:24:49.957737Z"
    },
    "scrolled": false
   },
   "outputs": [],
   "source": [
    "predicted_vis = copy_visibility(block_vis, zero=True)\n",
    "predicted_vis = predict_skycomponent_visibility(predicted_vis, found_components)\n",
    "gt = solve_gaintable(corrupted_vis, predicted_vis, phase_only=True, timescale='auto', seed=None)\n",
    "corrupted_vis = apply_gaintable(corrupted_vis, gt, inverse=True)\n",
    "dirty, sumwt = invert_function(corrupted_vis, model, context='2d')\n",
    "export_image_to_fits(dirty, 'skymodel_cal_after_iso_dirty.fits')\n",
    "\n",
    "qa = qa_image(dirty)\n",
    "found_components= find_skycomponents(dirty, threshold=20.0*qa.data['medianabs'])\n",
    "show_image(dirty, components=found_components, cm='Greys', title='Iso only: Dirty image plus found components')\n",
    "plt.show()"
   ]
  },
  {
   "cell_type": "markdown",
   "metadata": {},
   "source": [
    "Run skymodel_cal using dask"
   ]
  },
  {
   "cell_type": "code",
   "execution_count": null,
   "metadata": {
    "ExecuteTime": {
     "end_time": "2018-03-01T14:27:37.265914Z",
     "start_time": "2018-03-01T14:24:53.019827Z"
    },
    "scrolled": false
   },
   "outputs": [],
   "source": [
    "client = get_dask_Client()\n",
    "from arl.data.skymodel import SkyModel\n",
    "from dask import delayed\n",
    "skymodel_graph = [delayed(SkyModel, nout=1)(components=[cm]) for cm in found_components]\n",
    "graph = create_skymodel_cal_solve_graph(corrupted_vis, skymodel_graph, niter=5, gain=0.25, tol=1e-8)\n",
    "graph.visualize('skymodel_cal.svg')\n",
    "graph = create_skymodel_cal_solve_graph(corrupted_vis, skymodel_graph, niter=30, gain=0.25, tol=1e-8)\n",
    "\n",
    "calskymodel, residual_vis = client.compute(graph, sync=True)\n",
    "client.close()"
   ]
  },
  {
   "cell_type": "code",
   "execution_count": null,
   "metadata": {
    "ExecuteTime": {
     "end_time": "2018-03-01T14:30:09.635456Z",
     "start_time": "2018-03-01T14:30:06.505579Z"
    },
    "scrolled": false
   },
   "outputs": [],
   "source": [
    "skymodel_cal_components = [csm[0].components[0] for csm in calskymodel]\n",
    "\n",
    "residual, sumwt = invert_function(residual_vis, model, context='2d')\n",
    "show_image(residual, components=skymodel_cal_components, cm='Greys', title='Residual image after Sagecal')\n",
    "plt.show()\n",
    "\n",
    "psf, _ = invert_function(residual_vis, model, dopsf=True, context='2d')\n",
    "component_image = copy_image(model)\n",
    "component_image.data[...] = 0.0\n",
    "component_image= insert_skycomponent(component_image, skymodel_cal_components)\n",
    "restored = restore_cube(component_image, psf, residual)\n",
    "export_image_to_fits(restored, 'skymodel_cal_after_noniso_dirty.fits')\n",
    "\n",
    "print(qa_image(restored, context='Restored image after SageCal'))\n",
    "show_image(restored, components=found_components, cm='Greys', title='Restored image after SageCal')\n",
    "plt.show()"
   ]
  },
  {
   "cell_type": "code",
   "execution_count": null,
   "metadata": {},
   "outputs": [],
   "source": []
  }
 ],
 "metadata": {
  "kernelspec": {
   "display_name": "Python 3",
   "language": "python",
   "name": "python3"
  },
  "language_info": {
   "codemirror_mode": {
    "name": "ipython",
    "version": 3
   },
   "file_extension": ".py",
   "mimetype": "text/x-python",
   "name": "python",
   "nbconvert_exporter": "python",
   "pygments_lexer": "ipython3",
   "version": "3.6.1"
  }
 },
 "nbformat": 4,
 "nbformat_minor": 2
}
